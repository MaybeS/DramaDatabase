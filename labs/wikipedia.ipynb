{
 "cells": [
  {
   "cell_type": "code",
   "execution_count": 1,
   "metadata": {},
   "outputs": [],
   "source": [
    "from typing import Tuple\n",
    "import re\n",
    "import xml.etree.ElementTree as etree\n",
    "from collections import defaultdict, OrderedDict\n",
    "from functools import reduce"
   ]
  },
  {
   "cell_type": "code",
   "execution_count": 2,
   "metadata": {},
   "outputs": [],
   "source": [
    "import numpy as np\n",
    "import pandas as pd"
   ]
  },
  {
   "cell_type": "markdown",
   "metadata": {},
   "source": [
    "## Read wikipedia dump"
   ]
  },
  {
   "cell_type": "code",
   "execution_count": 11,
   "metadata": {},
   "outputs": [],
   "source": [
    "root = etree.parse('../data/kowiki.xml').getroot()"
   ]
  },
  {
   "cell_type": "code",
   "execution_count": 12,
   "metadata": {},
   "outputs": [],
   "source": [
    "prefix = '{http://www.mediawiki.org/xml/export-0.10/}'\n",
    "keywords = ['title', 'id', 'revision/text']"
   ]
  },
  {
   "cell_type": "code",
   "execution_count": 13,
   "metadata": {},
   "outputs": [],
   "source": [
    "context = defaultdict(dict)"
   ]
  },
  {
   "cell_type": "code",
   "execution_count": null,
   "metadata": {},
   "outputs": [],
   "source": [
    "def parse_xml(node, key):\n",
    "    return node.find(f''{prefix}{key})"
   ]
  },
  {
   "cell_type": "code",
   "execution_count": 14,
   "metadata": {},
   "outputs": [],
   "source": [
    "for page in root[1:]:\n",
    "    data = {keyword: reduce(parse_xml, [page, *keyword.split('/')]).text for keyword in keywords}\n",
    "    context[data['title']] = data"
   ]
  },
  {
   "cell_type": "markdown",
   "metadata": {},
   "source": [
    "## Parser"
   ]
  },
  {
   "cell_type": "code",
   "execution_count": 118,
   "metadata": {},
   "outputs": [],
   "source": [
    "regex_document = re.compile('\\[\\[(.[^:]+?)\\]\\]')\n",
    "regex_table = re.compile('\\{\\{((.|\\n)*)\\}\\}')\n",
    "regex_table_column = re.compile('\\|(.+?)\\=([^\\|]*)')\n",
    "regex_redirect = re.compile('#넘겨주기 \\[\\[(.+?)\\]\\]')\n",
    "regex_bracket = re.compile('\\((.+?)\\)')\n",
    "\n",
    "regex_tags = OrderedDict({\n",
    "    'regex_del': (r'\\1', re.compile('~~(.+?)~~')),\n",
    "    'regex_dash': (r'\\1', re.compile('--(.+?)--')),\n",
    "    'regex_link': (r'\\1', re.compile('\\[\\[(.[^:\\[\\]]+?)\\|(.[^:\\[\\]]+?)\\]\\]')),\n",
    "    'regex_attach': ('attach', re.compile('\\[\\[파일:(.+?)\\]\\]')),\n",
    "    'regex_document': (r'\\1', re.compile('\\[\\[(.[^:]+?)\\]\\]')),\n",
    "    'regex_tag': ('', re.compile('\\<(.+?)\\>')),\n",
    "    'regex_comment': ('', re.compile('\\[\\*(.+?)\\]')),\n",
    "})"
   ]
  },
  {
   "cell_type": "code",
   "execution_count": 49,
   "metadata": {},
   "outputs": [],
   "source": [
    "def parse(text: str) -> str:\n",
    "    def _parse(text: str, target: str, tag: re.Pattern) -> Tuple[str, int]:\n",
    "        return tag.subn(target, text)\n",
    "    \n",
    "    count = 0\n",
    "    \n",
    "    while True:\n",
    "        for target_tag in regex_tags.values():\n",
    "            text, count = _parse(text, *target_tag)\n",
    "            if count:\n",
    "                break\n",
    "        if not count:\n",
    "            break\n",
    "            \n",
    "    return text.strip()"
   ]
  },
  {
   "cell_type": "markdown",
   "metadata": {},
   "source": [
    "## Get drama titles from lists"
   ]
  },
  {
   "cell_type": "code",
   "execution_count": 50,
   "metadata": {},
   "outputs": [],
   "source": [
    "interested = [\"대한민국의 텔레비전 드라마 목록/ㄱ\", \"대한민국의 텔레비전 드라마 목록/ㄴ\", \"대한민국의 텔레비전 드라마 목록/ㄷ\", \"대한민국의 텔레비전 드라마 목록/ㄹ\", \"대한민국의 텔레비전 드라마 목록/ㅁ\", \"대한민국의 텔레비전 드라마 목록/ㅂ\", \"대한민국의 텔레비전 드라마 목록/ㅅ\", \"대한민국의 텔레비전 드라마 목록/ㅇ\", \"대한민국의 텔레비전 드라마 목록/ㅈ\", \"대한민국의 텔레비전 드라마 목록/ㅊ\", \"대한민국의 텔레비전 드라마 목록/ㅋ\", \"대한민국의 텔레비전 드라마 목록/ㅌ\", \"대한민국의 텔레비전 드라마 목록/ㅍ\", \"대한민국의 텔레비전 드라마 목록/ㅎ\", \"대한민국의 텔레비전 드라마 목록/알파벳\", \"대한민국의 텔레비전 드라마 목록/숫자\", ]"
   ]
  },
  {
   "cell_type": "code",
   "execution_count": 51,
   "metadata": {},
   "outputs": [],
   "source": [
    "titles = set()"
   ]
  },
  {
   "cell_type": "code",
   "execution_count": 53,
   "metadata": {},
   "outputs": [],
   "source": [
    "for inter in interested:\n",
    "    document = context[inter]['revision/text']\n",
    "    matches = regex_document.findall(document)\n",
    "    \n",
    "    for match in matches:\n",
    "        name, *_ = match.split('|')\n",
    "        name, *_ = name.split('#')\n",
    "        if name != '대한민국의 텔레비전 드라마 목록':\n",
    "            titles.add(name)"
   ]
  },
  {
   "cell_type": "markdown",
   "metadata": {},
   "source": [
    "## Get metadata from document"
   ]
  },
  {
   "cell_type": "code",
   "execution_count": 56,
   "metadata": {},
   "outputs": [],
   "source": [
    "columns = {\n",
    "    '방송 기간': ['방송기간', '방송 기간'],\n",
    "    '방송 횟수': ['횟수', '방송 횟수'],\n",
    "    '장르': ['장르'],\n",
    "    '채널': ['채널', '방송사', '방송 채널', '방송채널'],\n",
    "    '제작사': ['제작사', '제작자', '제작'],\n",
    "    '극본': ['극본', '대본', '각본'],\n",
    "    '출연자': ['출연자', '출연', '출연진'],\n",
    "}"
   ]
  },
  {
   "cell_type": "code",
   "execution_count": 145,
   "metadata": {},
   "outputs": [],
   "source": [
    "data = defaultdict(dict)\n",
    "notexists = []\n",
    "notparser = []"
   ]
  },
  {
   "cell_type": "code",
   "execution_count": 146,
   "metadata": {},
   "outputs": [],
   "source": [
    "for title in titles:\n",
    "    try:\n",
    "        if '(드라마)' not in title and f'{title} (드라마)' in context:\n",
    "            document, redirect = context[f'{title} (드라마)']['revision/text'], True\n",
    "        else:\n",
    "            document, redirect = context[title]['revision/text'], True\n",
    "        while redirect:\n",
    "            document, redirect = regex_redirect.subn(r'\\1', document)\n",
    "            if redirect:\n",
    "                document = context[document]['revision/text']\n",
    "    except KeyError:\n",
    "        notexists.append(title)\n",
    "    \n",
    "    d = defaultdict(str)    \n",
    "    for table, *_ in regex_table.findall(document):\n",
    "        for key, value in regex_table_column.findall(table):\n",
    "            key = next((ckey for ckey, cvalues in columns.items() if any(cvalue in key for cvalue in cvalues)), False)\n",
    "            if key:\n",
    "                key = key.strip()\n",
    "                d[key] = f'{d[key]} {value}'\n",
    "    if not d:\n",
    "        notparser.append(title)\n",
    "    else:\n",
    "        data[title] = d"
   ]
  },
  {
   "cell_type": "code",
   "execution_count": 147,
   "metadata": {},
   "outputs": [
    {
     "name": "stdout",
     "output_type": "stream",
     "text": [
      "11 pages are not parsable\n",
      "16 pages are not exists\n"
     ]
    }
   ],
   "source": [
    "print(f'{len(notparser)} pages are not parsable')\n",
    "print(f'{len(notexists)} pages are not exists')"
   ]
  },
  {
   "cell_type": "markdown",
   "metadata": {},
   "source": [
    "## Create table from data"
   ]
  },
  {
   "cell_type": "code",
   "execution_count": 251,
   "metadata": {},
   "outputs": [],
   "source": [
    "table_columns = list(columns.keys())\n",
    "table = np.empty((0, len(table_columns) + 1))\n",
    "\n",
    "for title, values in data.items():\n",
    "    table = np.vstack((table, np.array([\n",
    "        regex_bracket.sub('', title).replace(' ', '').strip(), *tuple(map(parse, map(lambda c: values[c], table_columns)))\n",
    "    ])))"
   ]
  },
  {
   "cell_type": "code",
   "execution_count": 258,
   "metadata": {},
   "outputs": [],
   "source": [
    "df = pd.DataFrame(table)\n",
    "df.columns = ['제목', *table_columns]"
   ]
  },
  {
   "cell_type": "markdown",
   "metadata": {},
   "source": [
    "### Parse datetime"
   ]
  },
  {
   "cell_type": "code",
   "execution_count": 259,
   "metadata": {},
   "outputs": [],
   "source": [
    "regex_date = re.compile('(.+?)년(.*)월(.*)일')"
   ]
  },
  {
   "cell_type": "code",
   "execution_count": 260,
   "metadata": {},
   "outputs": [],
   "source": [
    "date_start = []\n",
    "for index, date in enumerate(df['방송 기간']):\n",
    "    ds, *de = map(regex_date.findall, map(str.strip, date.split('~' if '~' in date else '-')))\n",
    "    ds, *_ = ds or ['unknown']\n",
    "    try:\n",
    "        date_start.append(pd.datetime(*tuple(map(int, ds))))\n",
    "    except (ValueError, TypeError):\n",
    "        date_start.append('unknown')\n",
    "    \n",
    "assert len(date_start) == np.size(df, 0)"
   ]
  },
  {
   "cell_type": "code",
   "execution_count": 261,
   "metadata": {},
   "outputs": [],
   "source": [
    "df['방송 시작'] = pd.Series(date_start)"
   ]
  },
  {
   "cell_type": "markdown",
   "metadata": {},
   "source": [
    "## Show Dataframe"
   ]
  },
  {
   "cell_type": "code",
   "execution_count": 262,
   "metadata": {},
   "outputs": [
    {
     "name": "stdout",
     "output_type": "stream",
     "text": [
      "(1762, 9)\n"
     ]
    },
    {
     "data": {
      "text/html": [
       "<div>\n",
       "<style scoped>\n",
       "    .dataframe tbody tr th:only-of-type {\n",
       "        vertical-align: middle;\n",
       "    }\n",
       "\n",
       "    .dataframe tbody tr th {\n",
       "        vertical-align: top;\n",
       "    }\n",
       "\n",
       "    .dataframe thead th {\n",
       "        text-align: right;\n",
       "    }\n",
       "</style>\n",
       "<table border=\"1\" class=\"dataframe\">\n",
       "  <thead>\n",
       "    <tr style=\"text-align: right;\">\n",
       "      <th></th>\n",
       "      <th>제목</th>\n",
       "      <th>방송 기간</th>\n",
       "      <th>방송 횟수</th>\n",
       "      <th>장르</th>\n",
       "      <th>채널</th>\n",
       "      <th>제작사</th>\n",
       "      <th>극본</th>\n",
       "      <th>출연자</th>\n",
       "      <th>방송 시작</th>\n",
       "    </tr>\n",
       "  </thead>\n",
       "  <tbody>\n",
       "    <tr>\n",
       "      <th>0</th>\n",
       "      <td>언터처블</td>\n",
       "      <td>2017년 11월 24일 ~ 2018년 1월 20일</td>\n",
       "      <td>16부작</td>\n",
       "      <td>드라마</td>\n",
       "      <td>JTBC</td>\n",
       "      <td>손기원, 박준서\\n  김종학 프로덕션, [[드라마하우스앤드제이콘텐트허브</td>\n",
       "      <td>최진원</td>\n",
       "      <td>진구, [[김성균 (배우)</td>\n",
       "      <td>2017-11-24 00:00:00</td>\n",
       "    </tr>\n",
       "    <tr>\n",
       "      <th>1</th>\n",
       "      <td>마을-아치아라의비밀</td>\n",
       "      <td>2015년 10월 7일 ~ 2015년 12월 3일</td>\n",
       "      <td>16부작</td>\n",
       "      <td>미스터리 스릴러 드라마</td>\n",
       "      <td>[[SBS (대한민국의 방송사)</td>\n",
       "      <td>김동래\\n   래몽래인</td>\n",
       "      <td>도현정</td>\n",
       "      <td>문근영, 육성재, 온주완, [[신은경 (배우)</td>\n",
       "      <td>2015-10-07 00:00:00</td>\n",
       "    </tr>\n",
       "    <tr>\n",
       "      <th>2</th>\n",
       "      <td>사랑과결혼</td>\n",
       "      <td>1995년 4월 22일 ~ 1995년 10월 15일</td>\n",
       "      <td>48부작</td>\n",
       "      <td>[[텔레비전 드라마</td>\n",
       "      <td>[[문화방송</td>\n",
       "      <td></td>\n",
       "      <td>[[김지수 (작가)</td>\n",
       "      <td>김희애, 김혜수, 이영애, 손창민 외</td>\n",
       "      <td>1995-04-22 00:00:00</td>\n",
       "    </tr>\n",
       "    <tr>\n",
       "      <th>3</th>\n",
       "      <td>야호</td>\n",
       "      <td>1987년 3월 9일 ~ 1987년 3월 31일</td>\n",
       "      <td>8부작</td>\n",
       "      <td>[[텔레비전 드라마</td>\n",
       "      <td>[[문화방송</td>\n",
       "      <td></td>\n",
       "      <td>정하연</td>\n",
       "      <td>한애경, [[김동현 (1950년)</td>\n",
       "      <td>1987-03-09 00:00:00</td>\n",
       "    </tr>\n",
       "    <tr>\n",
       "      <th>4</th>\n",
       "      <td>별도달도따줄게</td>\n",
       "      <td>2012년 5월 7일 ~ 2012년 11월 2일</td>\n",
       "      <td>129부작</td>\n",
       "      <td>[[텔레비전 드라마  드라마 삽입곡</td>\n",
       "      <td>KBS 1TV</td>\n",
       "      <td>김선진, 김영일, 이봉호, 문종식</td>\n",
       "      <td>홍영희</td>\n",
       "      <td>서지혜, 조동혁, 고세원, 문보령 외</td>\n",
       "      <td>2012-05-07 00:00:00</td>\n",
       "    </tr>\n",
       "  </tbody>\n",
       "</table>\n",
       "</div>"
      ],
      "text/plain": [
       "           제목                         방송 기간  방송 횟수                   장르  \\\n",
       "0        언터처블  2017년 11월 24일 ~ 2018년 1월 20일   16부작                  드라마   \n",
       "1  마을-아치아라의비밀   2015년 10월 7일 ~ 2015년 12월 3일   16부작         미스터리 스릴러 드라마   \n",
       "2       사랑과결혼  1995년 4월 22일 ~ 1995년 10월 15일   48부작           [[텔레비전 드라마   \n",
       "3          야호    1987년 3월 9일 ~ 1987년 3월 31일    8부작           [[텔레비전 드라마   \n",
       "4     별도달도따줄게    2012년 5월 7일 ~ 2012년 11월 2일  129부작  [[텔레비전 드라마  드라마 삽입곡   \n",
       "\n",
       "                  채널                                      제작사          극본  \\\n",
       "0               JTBC  손기원, 박준서\\n  김종학 프로덕션, [[드라마하우스앤드제이콘텐트허브         최진원   \n",
       "1  [[SBS (대한민국의 방송사)                             김동래\\n   래몽래인         도현정   \n",
       "2             [[문화방송                                           [[김지수 (작가)   \n",
       "3             [[문화방송                                                  정하연   \n",
       "4            KBS 1TV                       김선진, 김영일, 이봉호, 문종식         홍영희   \n",
       "\n",
       "                         출연자                방송 시작  \n",
       "0             진구, [[김성균 (배우)  2017-11-24 00:00:00  \n",
       "1  문근영, 육성재, 온주완, [[신은경 (배우)  2015-10-07 00:00:00  \n",
       "2       김희애, 김혜수, 이영애, 손창민 외  1995-04-22 00:00:00  \n",
       "3         한애경, [[김동현 (1950년)  1987-03-09 00:00:00  \n",
       "4       서지혜, 조동혁, 고세원, 문보령 외  2012-05-07 00:00:00  "
      ]
     },
     "execution_count": 262,
     "metadata": {},
     "output_type": "execute_result"
    }
   ],
   "source": [
    "print(df.shape)\n",
    "df.head()"
   ]
  },
  {
   "cell_type": "code",
   "execution_count": 263,
   "metadata": {},
   "outputs": [],
   "source": [
    "df.to_csv('../results/wikipedia.csv', index=None)"
   ]
  },
  {
   "cell_type": "code",
   "execution_count": null,
   "metadata": {},
   "outputs": [],
   "source": []
  }
 ],
 "metadata": {
  "kernelspec": {
   "display_name": "Python 3",
   "language": "python",
   "name": "python3"
  },
  "language_info": {
   "codemirror_mode": {
    "name": "ipython",
    "version": 3
   },
   "file_extension": ".py",
   "mimetype": "text/x-python",
   "name": "python",
   "nbconvert_exporter": "python",
   "pygments_lexer": "ipython3",
   "version": "3.7.6"
  }
 },
 "nbformat": 4,
 "nbformat_minor": 4
}
