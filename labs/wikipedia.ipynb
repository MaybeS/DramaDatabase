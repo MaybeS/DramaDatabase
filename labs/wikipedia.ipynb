{
 "cells": [
  {
   "cell_type": "code",
   "execution_count": 110,
   "metadata": {},
   "outputs": [],
   "source": [
    "import re\n",
    "import xml.etree.ElementTree as etree\n",
    "from collections import defaultdict\n",
    "from functools import reduce"
   ]
  },
  {
   "cell_type": "code",
   "execution_count": 3,
   "metadata": {},
   "outputs": [],
   "source": [
    "import numpy as np\n",
    "import pandas as pd"
   ]
  },
  {
   "cell_type": "markdown",
   "metadata": {},
   "source": [
    "## Read wikipedia dump"
   ]
  },
  {
   "cell_type": "code",
   "execution_count": 6,
   "metadata": {},
   "outputs": [],
   "source": [
    "root = etree.parse('../data/kowiki.xml').getroot()"
   ]
  },
  {
   "cell_type": "code",
   "execution_count": 109,
   "metadata": {},
   "outputs": [],
   "source": [
    "prefix = '{http://www.mediawiki.org/xml/export-0.10/}'\n",
    "keywords = ['title', 'id', 'revision/text']"
   ]
  },
  {
   "cell_type": "code",
   "execution_count": 132,
   "metadata": {},
   "outputs": [],
   "source": [
    "context = defaultdict(dict)"
   ]
  },
  {
   "cell_type": "code",
   "execution_count": 133,
   "metadata": {},
   "outputs": [],
   "source": [
    "for page in root[1:]:\n",
    "    data = {keyword: reduce(lambda node, key: node.find(f'{prefix}{key}'), [page, *keyword.split('/')]).text for keyword in keywords}\n",
    "    context[data['title']] = data"
   ]
  },
  {
   "cell_type": "markdown",
   "metadata": {},
   "source": [
    "## Parser"
   ]
  },
  {
   "cell_type": "code",
   "execution_count": 186,
   "metadata": {},
   "outputs": [],
   "source": [
    "regex_document = re.compile('\\[\\[(.[^:]+?)\\]\\]')\n",
    "regex_attach = re.compile('\\[\\[파일:(.+?)\\]\\]')\n",
    "regex_comment = re.compile('\\[\\*(.+?)\\]')\n",
    "regex_table = re.compile('\\|(.+?)=(.+?)\\n')\n",
    "regex_link = re.compile('\\[\\[(.[^:\\[\\]]+?)\\|(.[^:\\[\\]]+?)\\]\\]')\n",
    "regex_del = re.compile('~~(.+?)~~')\n",
    "regex_tag = re.compile('\\<(.+?)\\>')"
   ]
  },
  {
   "cell_type": "markdown",
   "metadata": {},
   "source": [
    "## Get drama titles from channles"
   ]
  },
  {
   "cell_type": "code",
   "execution_count": 135,
   "metadata": {},
   "outputs": [],
   "source": [
    "interested = [\"대한민국의 텔레비전 드라마 목록/ㄱ\", \"대한민국의 텔레비전 드라마 목록/ㄴ\", \"대한민국의 텔레비전 드라마 목록/ㄷ\", \"대한민국의 텔레비전 드라마 목록/ㄹ\", \"대한민국의 텔레비전 드라마 목록/ㅁ\", \"대한민국의 텔레비전 드라마 목록/ㅂ\", \"대한민국의 텔레비전 드라마 목록/ㅅ\", \"대한민국의 텔레비전 드라마 목록/ㅇ\", \"대한민국의 텔레비전 드라마 목록/ㅈ\", \"대한민국의 텔레비전 드라마 목록/ㅊ\", \"대한민국의 텔레비전 드라마 목록/ㅋ\", \"대한민국의 텔레비전 드라마 목록/ㅌ\", \"대한민국의 텔레비전 드라마 목록/ㅍ\", \"대한민국의 텔레비전 드라마 목록/ㅎ\", \"대한민국의 텔레비전 드라마 목록/알파벳\", \"대한민국의 텔레비전 드라마 목록/숫자\", ]"
   ]
  },
  {
   "cell_type": "code",
   "execution_count": 165,
   "metadata": {},
   "outputs": [],
   "source": [
    "titles = set()"
   ]
  },
  {
   "cell_type": "code",
   "execution_count": 166,
   "metadata": {},
   "outputs": [],
   "source": [
    "for inter in interested:\n",
    "    document = context[inter]['revision/text']\n",
    "    matches = regex_documnet.findall(document)\n",
    "    \n",
    "    for match in matches:\n",
    "        name, *_ = match.split('|')\n",
    "        name, *_ = name.split('#')\n",
    "        if name != '대한민국의 텔레비전 드라마 목록':\n",
    "            titles.add(name)"
   ]
  },
  {
   "cell_type": "markdown",
   "metadata": {},
   "source": [
    "## Get metadata from document"
   ]
  },
  {
   "cell_type": "code",
   "execution_count": 201,
   "metadata": {},
   "outputs": [],
   "source": [
    "columns = {\n",
    "    '방송 기간': ['방송기간', '방송 기간'],\n",
    "    '방송 횟수': ['횟수', '방송 횟수'],\n",
    "    '장르': ['장르'],\n",
    "    '채널': ['채널', '방송사', '방송 채널', '방송채널'],\n",
    "    '제작사': ['제작사', '제작자', '제작'],\n",
    "    '극본': ['극본', '대본', '각본'],\n",
    "    '출연자': ['출연자', '출연', '출연진'],\n",
    "}"
   ]
  },
  {
   "cell_type": "code",
   "execution_count": 202,
   "metadata": {},
   "outputs": [],
   "source": [
    "data = defaultdict(dict)\n",
    "notexists = []\n",
    "notparser = []"
   ]
  },
  {
   "cell_type": "code",
   "execution_count": 203,
   "metadata": {},
   "outputs": [],
   "source": [
    "for title in titles:\n",
    "    try:\n",
    "        document = context[title]['revision/text']                  \n",
    "    except KeyError:\n",
    "        notexists.append(title)\n",
    "        \n",
    "    matches = regex_table.findall(document)\n",
    "    \n",
    "    d = {key: '' for key in columns}\n",
    "    \n",
    "    for key_value in matches:\n",
    "        key, value = map(str.strip, key_value)\n",
    "        key = next((ckey for ckey, cvalues in columns.items() if any(cvalue in key for cvalue in cvalues)), False)\n",
    "        if key:\n",
    "            d[key] = value\n",
    "    \n",
    "    if not d:\n",
    "        notparser.append(title)\n",
    "    else:\n",
    "        data[title] = d"
   ]
  },
  {
   "cell_type": "markdown",
   "metadata": {},
   "source": [
    "## Create table from data"
   ]
  },
  {
   "cell_type": "code",
   "execution_count": 204,
   "metadata": {},
   "outputs": [],
   "source": [
    "table_columns = list(columns.keys())"
   ]
  },
  {
   "cell_type": "code",
   "execution_count": 205,
   "metadata": {},
   "outputs": [],
   "source": [
    "table = np.empty((0, len(table_columns) + 1))"
   ]
  },
  {
   "cell_type": "code",
   "execution_count": 206,
   "metadata": {},
   "outputs": [],
   "source": [
    "for title, values in data.items():\n",
    "    d = [regex_tag.sub('', regex_comment.sub('', regex_del.sub(r'\\1', regex_documnet.sub(r'\\1', regex_link.sub(r'\\1', regex_attach.sub('attach', values[column])))))).strip() \n",
    "         for column in table_columns]\n",
    "    table = np.vstack((table, np.array([title, *d])))"
   ]
  },
  {
   "cell_type": "code",
   "execution_count": 207,
   "metadata": {},
   "outputs": [],
   "source": [
    "df = pd.DataFrame(table)\n",
    "df.columns = ['title', *table_columns]"
   ]
  },
  {
   "cell_type": "code",
   "execution_count": 208,
   "metadata": {},
   "outputs": [
    {
     "data": {
      "text/html": [
       "<div>\n",
       "<style scoped>\n",
       "    .dataframe tbody tr th:only-of-type {\n",
       "        vertical-align: middle;\n",
       "    }\n",
       "\n",
       "    .dataframe tbody tr th {\n",
       "        vertical-align: top;\n",
       "    }\n",
       "\n",
       "    .dataframe thead th {\n",
       "        text-align: right;\n",
       "    }\n",
       "</style>\n",
       "<table border=\"1\" class=\"dataframe\">\n",
       "  <thead>\n",
       "    <tr style=\"text-align: right;\">\n",
       "      <th></th>\n",
       "      <th>title</th>\n",
       "      <th>방송 기간</th>\n",
       "      <th>방송 횟수</th>\n",
       "      <th>장르</th>\n",
       "      <th>채널</th>\n",
       "      <th>제작사</th>\n",
       "      <th>극본</th>\n",
       "      <th>출연자</th>\n",
       "    </tr>\n",
       "  </thead>\n",
       "  <tbody>\n",
       "    <tr>\n",
       "      <th>0</th>\n",
       "      <td>그 여름의 태풍</td>\n",
       "      <td>2005년 5월 28일 ~ 2005년 9월 4일</td>\n",
       "      <td>30부작</td>\n",
       "      <td>드라마</td>\n",
       "      <td>SBS TV</td>\n",
       "      <td>김호웅</td>\n",
       "      <td>최성실</td>\n",
       "      <td>정다빈 (1980년), 한예슬, 이재황 (배우), 정찬 (배우)</td>\n",
       "    </tr>\n",
       "    <tr>\n",
       "      <th>1</th>\n",
       "      <td>좋은사람 (2016년 드라마)</td>\n",
       "      <td>2016년 5월 2일 ~ 2016년 10월 28일</td>\n",
       "      <td>122부작</td>\n",
       "      <td>드라마</td>\n",
       "      <td>MBC TV</td>\n",
       "      <td>MBC C&amp;I</td>\n",
       "      <td>은주영, 최연걸(26회 ~ 122회)</td>\n",
       "      <td>우희진, 현우성 외</td>\n",
       "    </tr>\n",
       "    <tr>\n",
       "      <th>2</th>\n",
       "      <td>미워도 다시 한 번 2009</td>\n",
       "      <td>2009년 2월 4일 ~ 2009년 4월 23일</td>\n",
       "      <td>24부작</td>\n",
       "      <td>멜로</td>\n",
       "      <td>KBS 2TV</td>\n",
       "      <td>오성민</td>\n",
       "      <td>조희</td>\n",
       "      <td>최명길 (배우), 박상원, 전인화 외</td>\n",
       "    </tr>\n",
       "    <tr>\n",
       "      <th>3</th>\n",
       "      <td>백수탈출</td>\n",
       "      <td>2003년 4월 26일 ~ 2003년 8월 24일</td>\n",
       "      <td>36부작</td>\n",
       "      <td>텔레비전 드라마</td>\n",
       "      <td>SBS TV</td>\n",
       "      <td></td>\n",
       "      <td>한준영</td>\n",
       "      <td>이정진, 김현수 (1978년) 외</td>\n",
       "    </tr>\n",
       "    <tr>\n",
       "      <th>4</th>\n",
       "      <td>천사의 유혹</td>\n",
       "      <td>2009년 10월 12일 ~ 2009년 12월 22일</td>\n",
       "      <td>21부작</td>\n",
       "      <td>텔레비전 드라마, 에로</td>\n",
       "      <td>SBS (대한민국의 방송사)</td>\n",
       "      <td>삼화네트웍스</td>\n",
       "      <td>김순옥 (작가)</td>\n",
       "      <td>배수빈, 한상진, 이소연 (배우), 진태현, 홍수현 외</td>\n",
       "    </tr>\n",
       "  </tbody>\n",
       "</table>\n",
       "</div>"
      ],
      "text/plain": [
       "              title                          방송 기간  방송 횟수            장르  \\\n",
       "0          그 여름의 태풍     2005년 5월 28일 ~ 2005년 9월 4일   30부작           드라마   \n",
       "1  좋은사람 (2016년 드라마)    2016년 5월 2일 ~ 2016년 10월 28일  122부작           드라마   \n",
       "2   미워도 다시 한 번 2009     2009년 2월 4일 ~ 2009년 4월 23일   24부작            멜로   \n",
       "3              백수탈출    2003년 4월 26일 ~ 2003년 8월 24일   36부작      텔레비전 드라마   \n",
       "4            천사의 유혹  2009년 10월 12일 ~ 2009년 12월 22일   21부작  텔레비전 드라마, 에로   \n",
       "\n",
       "                채널      제작사                    극본  \\\n",
       "0           SBS TV      김호웅                   최성실   \n",
       "1           MBC TV  MBC C&I  은주영, 최연걸(26회 ~ 122회)   \n",
       "2          KBS 2TV      오성민                    조희   \n",
       "3           SBS TV                            한준영   \n",
       "4  SBS (대한민국의 방송사)   삼화네트웍스              김순옥 (작가)   \n",
       "\n",
       "                                   출연자  \n",
       "0  정다빈 (1980년), 한예슬, 이재황 (배우), 정찬 (배우)  \n",
       "1                           우희진, 현우성 외  \n",
       "2                 최명길 (배우), 박상원, 전인화 외  \n",
       "3                   이정진, 김현수 (1978년) 외  \n",
       "4       배수빈, 한상진, 이소연 (배우), 진태현, 홍수현 외  "
      ]
     },
     "execution_count": 208,
     "metadata": {},
     "output_type": "execute_result"
    }
   ],
   "source": [
    "df.head()"
   ]
  },
  {
   "cell_type": "code",
   "execution_count": 210,
   "metadata": {},
   "outputs": [],
   "source": [
    "df.to_csv('../results/wikipedia.csv', index=None)"
   ]
  },
  {
   "cell_type": "code",
   "execution_count": null,
   "metadata": {},
   "outputs": [],
   "source": []
  }
 ],
 "metadata": {
  "kernelspec": {
   "display_name": "Python 3",
   "language": "python",
   "name": "python3"
  },
  "language_info": {
   "codemirror_mode": {
    "name": "ipython",
    "version": 3
   },
   "file_extension": ".py",
   "mimetype": "text/x-python",
   "name": "python",
   "nbconvert_exporter": "python",
   "pygments_lexer": "ipython3",
   "version": "3.7.6"
  }
 },
 "nbformat": 4,
 "nbformat_minor": 4
}
