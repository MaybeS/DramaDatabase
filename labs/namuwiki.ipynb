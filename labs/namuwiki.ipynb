{
 "cells": [
  {
   "cell_type": "code",
   "execution_count": 105,
   "metadata": {},
   "outputs": [],
   "source": [
    "from typing import Tuple\n",
    "import re\n",
    "import json\n",
    "from collections import defaultdict, OrderedDict"
   ]
  },
  {
   "cell_type": "code",
   "execution_count": 2,
   "metadata": {},
   "outputs": [],
   "source": [
    "import numpy as np\n",
    "import pandas as pd"
   ]
  },
  {
   "cell_type": "markdown",
   "metadata": {},
   "source": [
    "## Read namuwiki dump"
   ]
  },
  {
   "cell_type": "code",
   "execution_count": 3,
   "metadata": {},
   "outputs": [],
   "source": [
    "with open('../data/namuwiki.json') as f:\n",
    "    context_ = json.load(f)"
   ]
  },
  {
   "cell_type": "code",
   "execution_count": 4,
   "metadata": {},
   "outputs": [],
   "source": [
    "context = defaultdict(dict)\n",
    "for doc in context_:\n",
    "    context[doc['title']][doc['namespace']] = doc"
   ]
  },
  {
   "cell_type": "markdown",
   "metadata": {},
   "source": [
    "## Parser"
   ]
  },
  {
   "cell_type": "code",
   "execution_count": 154,
   "metadata": {},
   "outputs": [],
   "source": [
    "regex_document = re.compile('\\[\\[(.[^:]+?)\\]\\]')\n",
    "regex_table = re.compile('\\|\\|(.+?)\\|\\|(.+?)\\|\\|')\n",
    "\n",
    "regex_tags = OrderedDict({\n",
    "    'regex_del': (r'\\1', re.compile('~~(.+?)~~')),\n",
    "    'regex_dash': (r'\\1', re.compile('--(.+?)--')),\n",
    "    'regex_color': (r'\\2', re.compile('\\{\\{\\{\\#(.+?) \\'\\'\\'(.+?)\\'\\'\\' \\}\\}\\}')),\n",
    "    'regex_link': (r'\\1', re.compile('\\[\\[(.[^:\\[\\]]+?)\\|(.[^:\\[\\]]+?)\\]\\]')),\n",
    "    'regex_attach': ('attach', re.compile('\\[\\[파일:(.+?)\\]\\]')),\n",
    "    'regex_document': (r'\\1', re.compile('\\[\\[(.[^:]+?)\\]\\]')),\n",
    "    \n",
    "    'regex_tag': ('', re.compile('\\<(.+?)\\>')),\n",
    "    'regex_comment': ('', re.compile('\\[\\*(.+?)\\]')),\n",
    "})"
   ]
  },
  {
   "cell_type": "code",
   "execution_count": 155,
   "metadata": {},
   "outputs": [],
   "source": [
    "def parse(text: str) -> str:\n",
    "    def _parse(text: str, target: str, tag: re.Pattern) -> Tuple[str, int]:\n",
    "        return tag.subn(target, text)\n",
    "    \n",
    "    count = 0\n",
    "    \n",
    "    while True:\n",
    "        for target_tag in regex_tags.values():\n",
    "            text, count = _parse(text, *target_tag)\n",
    "            if count:\n",
    "                break\n",
    "        if not count:\n",
    "            break\n",
    "            \n",
    "    return text.strip()"
   ]
  },
  {
   "cell_type": "markdown",
   "metadata": {},
   "source": [
    "## Get drama titles from channles"
   ]
  },
  {
   "cell_type": "code",
   "execution_count": 156,
   "metadata": {},
   "outputs": [],
   "source": [
    "interested = [\"JTBC 금토 드라마(2014~2017)\", \"JTBC 금토 드라마(2017~2020)\", \"JTBC 드라마\", \"JTBC 수목 드라마\", \"JTBC 월화 드라마(2011~2014)\", \"JTBC 월화 드라마(2017~2020)\", \"JTBC 주말 드라마\", \"KBS 수목 드라마(2001~2005)\", \"KBS 수목 드라마(2006~2010)\", \"KBS 수목 드라마(2011~2015)\", \"KBS 수목 드라마(2016~2020)\", \"KBS 월화 드라마(2001~2005)\", \"KBS 월화 드라마(2006~2010)\", \"KBS 월화 드라마(2011~2015)\", \"KBS 월화 드라마(2016~2020)\", \"KBS 학교 시리즈\", \"MBC 수목 미니시리즈(2006~2010)\", \"MBC 수목 미니시리즈(2011~2015)\", \"MBC 수목 미니시리즈(2016~2020)\", \"MBC 아침 드라마(2011~2015)\", \"MBC 아침 드라마(2016~2020)\", \"MBC 예능 드라마\", \"MBC 월화 미니시리즈(2006~2010)\", \"MBC 월화 미니시리즈(2016~2020)\", \"MBC 월화특별기획(2011~2015)\", \"MBC 일일 드라마(2016~2020)\", \"MBC 일일 연속극(2011~2015)\", \"MBC 주말 드라마(2011~2015)\", \"MBC 주말 드라마(2016~2020)\", \"MBC 주말 특별기획(2011~2015)\", \"MBC 주말 특별기획(2016~2020)\", \"MBC 하이킥 시리즈\", \"MBN 수목 드라마\", \"OCN 로맨스 드라마\", \"OCN 수목 오리지널\", \"OCN 오리지널 드라마(2010~2016)\", \"OCN 월화 오리지널\", \"OCN 토일 오리지널(2017~2020)\", \"SBS 금토 드라마(2019~현재)\", \"SBS 드라마 스페셜(1992~1995)\", \"SBS 드라마 스페셜(1996~2000)\", \"SBS 드라마 스페셜(2001~2005)\", \"SBS 드라마 스페셜(2006~2010)\", \"SBS 드라마 스페셜(2011~2015)\", \"SBS 드라마 스페셜(2016~2020)\", \"SBS 아침 연속극(2016~2020)\", \"SBS 월화 드라마(1991~1995)\", \"SBS 월화 드라마(1996~2000)\", \"SBS 월화 드라마(2001~2005)\", \"SBS 월화 드라마(2006~2010)\", \"SBS 월화 드라마(2011~2015)\", \"SBS 월화 드라마(2016~2020)\", \"TV CHOSUN 토일드라마\", \"tvN 금요 드라마(2007~2015)\", \"tvN 금토 드라마\", \"tvN 로맨스가 필요해 시리즈\", \"tvN 불금 시리즈(2017~)\", \"tvN 월화 드라마(2011~2015)\", \"tvN 월화 드라마(2016~2020)\", \"tvN 토일 드라마(2017~2020)\"]"
   ]
  },
  {
   "cell_type": "code",
   "execution_count": 157,
   "metadata": {},
   "outputs": [],
   "source": [
    "titles = set()"
   ]
  },
  {
   "cell_type": "code",
   "execution_count": 158,
   "metadata": {},
   "outputs": [],
   "source": [
    "for inter in interested:\n",
    "    document = context[inter]\n",
    "    matches = regex_document.findall(document['1']['text'])\n",
    "    \n",
    "    for match in matches:\n",
    "        name, *_ = match.split('|')\n",
    "        name, *_ = name.split('#')\n",
    "        titles.add(name)"
   ]
  },
  {
   "cell_type": "markdown",
   "metadata": {},
   "source": [
    "## Get metadata from document"
   ]
  },
  {
   "cell_type": "code",
   "execution_count": 159,
   "metadata": {},
   "outputs": [],
   "source": [
    "columns = {\n",
    "    '방송 기간': ['방송기간', '방송 기간'],\n",
    "    '방송 횟수': ['횟수', '방송 횟수'],\n",
    "    '장르': ['장르'],\n",
    "    '채널': ['채널', '방송사'],\n",
    "    '제작사': ['제작사', '제작자', '제작'],\n",
    "    '극본': ['극본', '대본'],\n",
    "    '출연자': ['출연자', '출연', '출연진'],\n",
    "}"
   ]
  },
  {
   "cell_type": "code",
   "execution_count": 177,
   "metadata": {},
   "outputs": [],
   "source": [
    "data = defaultdict(dict)\n",
    "notexists = []\n",
    "notparser = []"
   ]
  },
  {
   "cell_type": "code",
   "execution_count": 178,
   "metadata": {},
   "outputs": [],
   "source": [
    "for title in titles:\n",
    "    try:\n",
    "        document = context[title]['0']['text']                       \n",
    "    except KeyError:\n",
    "        notexists.append(title)\n",
    "        \n",
    "    matches = regex_table.findall(document)\n",
    "    \n",
    "    d = defaultdict(str)\n",
    "    \n",
    "    for key, value in matches:\n",
    "        key = next((ckey for ckey, cvalues in columns.items() if any(cvalue in key for cvalue in cvalues)), False)\n",
    "        if key:\n",
    "            key = key.strip()\n",
    "            d[key] = f'{d[key]} {value}'\n",
    "    \n",
    "    if not d:\n",
    "        notparser.append(title)\n",
    "    else:\n",
    "        data[title] = d"
   ]
  },
  {
   "cell_type": "code",
   "execution_count": 179,
   "metadata": {},
   "outputs": [
    {
     "name": "stdout",
     "output_type": "stream",
     "text": [
      "126 pages are not parsable\n",
      "2 pages are not exists\n"
     ]
    }
   ],
   "source": [
    "print(f'{len(notparser)} pages are not parsable')\n",
    "print(f'{len(notexists)} pages are not exists')"
   ]
  },
  {
   "cell_type": "markdown",
   "metadata": {},
   "source": [
    "## Create table from data"
   ]
  },
  {
   "cell_type": "code",
   "execution_count": 180,
   "metadata": {},
   "outputs": [],
   "source": [
    "table_columns = list(columns.keys())\n",
    "table = np.empty((0, len(table_columns) + 1))\n",
    "\n",
    "for title, values in data.items():\n",
    "    table = np.vstack((table, np.array([\n",
    "        title, *tuple(map(parse, map(lambda c: values[c], table_columns)))\n",
    "    ])))"
   ]
  },
  {
   "cell_type": "code",
   "execution_count": 181,
   "metadata": {},
   "outputs": [],
   "source": [
    "df = pd.DataFrame(table)\n",
    "df.columns = ['title', *table_columns]"
   ]
  },
  {
   "cell_type": "code",
   "execution_count": 182,
   "metadata": {},
   "outputs": [
    {
     "name": "stdout",
     "output_type": "stream",
     "text": [
      "(735, 8)\n"
     ]
    },
    {
     "data": {
      "text/html": [
       "<div>\n",
       "<style scoped>\n",
       "    .dataframe tbody tr th:only-of-type {\n",
       "        vertical-align: middle;\n",
       "    }\n",
       "\n",
       "    .dataframe tbody tr th {\n",
       "        vertical-align: top;\n",
       "    }\n",
       "\n",
       "    .dataframe thead th {\n",
       "        text-align: right;\n",
       "    }\n",
       "</style>\n",
       "<table border=\"1\" class=\"dataframe\">\n",
       "  <thead>\n",
       "    <tr style=\"text-align: right;\">\n",
       "      <th></th>\n",
       "      <th>title</th>\n",
       "      <th>방송 기간</th>\n",
       "      <th>방송 횟수</th>\n",
       "      <th>장르</th>\n",
       "      <th>채널</th>\n",
       "      <th>제작사</th>\n",
       "      <th>극본</th>\n",
       "      <th>출연자</th>\n",
       "    </tr>\n",
       "  </thead>\n",
       "  <tbody>\n",
       "    <tr>\n",
       "      <th>0</th>\n",
       "      <td>강남 스캔들</td>\n",
       "      <td>2018년 11월 26일 ~ 2019년 5월 17일</td>\n",
       "      <td>123부작</td>\n",
       "      <td>막장드라마, 가족드라마</td>\n",
       "      <td>SBS</td>\n",
       "      <td>SBS Plus    제작</td>\n",
       "      <td>박혜련</td>\n",
       "      <td>신고은(가수), 임윤호, 서도영, 황보미(방송인), 방은희 外</td>\n",
       "    </tr>\n",
       "    <tr>\n",
       "      <th>1</th>\n",
       "      <td>남자가 사랑할 때(SBS 드라마)</td>\n",
       "      <td>2004년 9월 30일 ~ 2004년 11월 18일</td>\n",
       "      <td>16부작</td>\n",
       "      <td></td>\n",
       "      <td>SBS</td>\n",
       "      <td>김종학프로덕션</td>\n",
       "      <td>김윤정</td>\n",
       "      <td>고수(배우), 박정아, 박예진, 배수빈 外</td>\n",
       "    </tr>\n",
       "    <tr>\n",
       "      <th>2</th>\n",
       "      <td>유령(드라마)</td>\n",
       "      <td>2012년 5월 30일 ~ 2012년 8월 9일</td>\n",
       "      <td>20부작</td>\n",
       "      <td>범죄, 스릴러</td>\n",
       "      <td>SBS</td>\n",
       "      <td>HB엔터테인먼트</td>\n",
       "      <td>김은희</td>\n",
       "      <td>소지섭, 이연희(배우), 엄기준, 곽도원</td>\n",
       "    </tr>\n",
       "    <tr>\n",
       "      <th>3</th>\n",
       "      <td>하이바이, 마마!</td>\n",
       "      <td></td>\n",
       "      <td>16부작</td>\n",
       "      <td></td>\n",
       "      <td>대한민국 : tvN [br] 세계 : Netflix</td>\n",
       "      <td>스튜디오 드래곤, 엠아이</td>\n",
       "      <td>권혜주</td>\n",
       "      <td>김태희, 이규형(배우), 고보결 外</td>\n",
       "    </tr>\n",
       "    <tr>\n",
       "      <th>4</th>\n",
       "      <td>패션 70's</td>\n",
       "      <td>2005년 5월 23일 ~ 2005년 8월 29일</td>\n",
       "      <td>28부작</td>\n",
       "      <td></td>\n",
       "      <td>SBS</td>\n",
       "      <td>김종학프로덕션, 세정]]</td>\n",
       "      <td>정성희</td>\n",
       "      <td>이요원, 김민정(1982), 주진모(1974), 천정명 外</td>\n",
       "    </tr>\n",
       "  </tbody>\n",
       "</table>\n",
       "</div>"
      ],
      "text/plain": [
       "                title                         방송 기간  방송 횟수            장르  \\\n",
       "0              강남 스캔들  2018년 11월 26일 ~ 2019년 5월 17일  123부작  막장드라마, 가족드라마   \n",
       "1  남자가 사랑할 때(SBS 드라마)  2004년 9월 30일 ~ 2004년 11월 18일   16부작                 \n",
       "2             유령(드라마)    2012년 5월 30일 ~ 2012년 8월 9일   20부작       범죄, 스릴러   \n",
       "3           하이바이, 마마!                                 16부작                 \n",
       "4             패션 70's   2005년 5월 23일 ~ 2005년 8월 29일   28부작                 \n",
       "\n",
       "                             채널             제작사   극본  \\\n",
       "0                           SBS  SBS Plus    제작  박혜련   \n",
       "1                           SBS         김종학프로덕션  김윤정   \n",
       "2                           SBS        HB엔터테인먼트  김은희   \n",
       "3  대한민국 : tvN [br] 세계 : Netflix   스튜디오 드래곤, 엠아이  권혜주   \n",
       "4                           SBS   김종학프로덕션, 세정]]  정성희   \n",
       "\n",
       "                                  출연자  \n",
       "0  신고은(가수), 임윤호, 서도영, 황보미(방송인), 방은희 外  \n",
       "1             고수(배우), 박정아, 박예진, 배수빈 外  \n",
       "2              소지섭, 이연희(배우), 엄기준, 곽도원  \n",
       "3                 김태희, 이규형(배우), 고보결 外  \n",
       "4    이요원, 김민정(1982), 주진모(1974), 천정명 外  "
      ]
     },
     "execution_count": 182,
     "metadata": {},
     "output_type": "execute_result"
    }
   ],
   "source": [
    "print(df.shape)\n",
    "df.head()"
   ]
  },
  {
   "cell_type": "code",
   "execution_count": 183,
   "metadata": {},
   "outputs": [],
   "source": [
    "df.to_csv('../results/namuwiki.csv', index=None)"
   ]
  },
  {
   "cell_type": "code",
   "execution_count": null,
   "metadata": {},
   "outputs": [],
   "source": []
  }
 ],
 "metadata": {
  "kernelspec": {
   "display_name": "Python 3",
   "language": "python",
   "name": "python3"
  },
  "language_info": {
   "codemirror_mode": {
    "name": "ipython",
    "version": 3
   },
   "file_extension": ".py",
   "mimetype": "text/x-python",
   "name": "python",
   "nbconvert_exporter": "python",
   "pygments_lexer": "ipython3",
   "version": "3.7.6"
  }
 },
 "nbformat": 4,
 "nbformat_minor": 4
}
