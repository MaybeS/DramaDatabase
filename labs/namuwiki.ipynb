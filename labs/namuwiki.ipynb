{
 "cells": [
  {
   "cell_type": "code",
   "execution_count": 2,
   "metadata": {},
   "outputs": [],
   "source": [
    "from typing import Tuple\n",
    "import re\n",
    "import json\n",
    "from collections import defaultdict, OrderedDict"
   ]
  },
  {
   "cell_type": "code",
   "execution_count": 3,
   "metadata": {},
   "outputs": [],
   "source": [
    "import numpy as np\n",
    "import pandas as pd"
   ]
  },
  {
   "cell_type": "markdown",
   "metadata": {},
   "source": [
    "## Read namuwiki dump"
   ]
  },
  {
   "cell_type": "code",
   "execution_count": 4,
   "metadata": {},
   "outputs": [],
   "source": [
    "with open('../data/namuwiki.json') as f:\n",
    "    context_ = json.load(f)"
   ]
  },
  {
   "cell_type": "code",
   "execution_count": 5,
   "metadata": {},
   "outputs": [],
   "source": [
    "context = defaultdict(dict)\n",
    "for doc in context_:\n",
    "    context[doc['title']][doc['namespace']] = doc"
   ]
  },
  {
   "cell_type": "markdown",
   "metadata": {},
   "source": [
    "## Parser"
   ]
  },
  {
   "cell_type": "code",
   "execution_count": 28,
   "metadata": {},
   "outputs": [],
   "source": [
    "regex_document = re.compile('\\[\\[(.[^:]+?)\\]\\]')\n",
    "regex_table = re.compile('\\|\\|(.+?)\\|\\|(.+?)\\|\\|')\n",
    "regex_bracket = re.compile('\\((.+?)\\)')\n",
    "\n",
    "regex_tags = OrderedDict({\n",
    "    'regex_del': (r'\\1', re.compile('~~(.+?)~~')),\n",
    "    'regex_dash': (r'\\1', re.compile('--(.+?)--')),\n",
    "    'regex_color': (r'\\2', re.compile('\\{\\{\\{\\#(.+?) \\'\\'\\'(.+?)\\'\\'\\' \\}\\}\\}')),\n",
    "    'regex_link': (r'\\1', re.compile('\\[\\[(.[^:\\[\\]]+?)\\|(.[^:\\[\\]]+?)\\]\\]')),\n",
    "    'regex_attach': ('attach', re.compile('\\[\\[파일:(.+?)\\]\\]')),\n",
    "    'regex_document': (r'\\1', re.compile('\\[\\[(.[^:]+?)\\]\\]')),\n",
    "    \n",
    "    'regex_tag': ('', re.compile('\\<(.+?)\\>')),\n",
    "    'regex_comment': ('', re.compile('\\[\\*(.+?)\\]')),\n",
    "})"
   ]
  },
  {
   "cell_type": "code",
   "execution_count": 7,
   "metadata": {},
   "outputs": [],
   "source": [
    "def parse(text: str) -> str:\n",
    "    def _parse(text: str, target: str, tag: re.Pattern) -> Tuple[str, int]:\n",
    "        return tag.subn(target, text)\n",
    "    \n",
    "    count = 0\n",
    "    \n",
    "    while True:\n",
    "        for target_tag in regex_tags.values():\n",
    "            text, count = _parse(text, *target_tag)\n",
    "            if count:\n",
    "                break\n",
    "        if not count:\n",
    "            break\n",
    "            \n",
    "    return text.strip()"
   ]
  },
  {
   "cell_type": "markdown",
   "metadata": {},
   "source": [
    "## Get drama titles from channles"
   ]
  },
  {
   "cell_type": "code",
   "execution_count": 8,
   "metadata": {},
   "outputs": [],
   "source": [
    "interested = [\"JTBC 금토 드라마(2014~2017)\", \"JTBC 금토 드라마(2017~2020)\", \"JTBC 드라마\", \"JTBC 수목 드라마\", \"JTBC 월화 드라마(2011~2014)\", \"JTBC 월화 드라마(2017~2020)\", \"JTBC 주말 드라마\", \"KBS 수목 드라마(2001~2005)\", \"KBS 수목 드라마(2006~2010)\", \"KBS 수목 드라마(2011~2015)\", \"KBS 수목 드라마(2016~2020)\", \"KBS 월화 드라마(2001~2005)\", \"KBS 월화 드라마(2006~2010)\", \"KBS 월화 드라마(2011~2015)\", \"KBS 월화 드라마(2016~2020)\", \"KBS 학교 시리즈\", \"MBC 수목 미니시리즈(2006~2010)\", \"MBC 수목 미니시리즈(2011~2015)\", \"MBC 수목 미니시리즈(2016~2020)\", \"MBC 아침 드라마(2011~2015)\", \"MBC 아침 드라마(2016~2020)\", \"MBC 예능 드라마\", \"MBC 월화 미니시리즈(2006~2010)\", \"MBC 월화 미니시리즈(2016~2020)\", \"MBC 월화특별기획(2011~2015)\", \"MBC 일일 드라마(2016~2020)\", \"MBC 일일 연속극(2011~2015)\", \"MBC 주말 드라마(2011~2015)\", \"MBC 주말 드라마(2016~2020)\", \"MBC 주말 특별기획(2011~2015)\", \"MBC 주말 특별기획(2016~2020)\", \"MBC 하이킥 시리즈\", \"MBN 수목 드라마\", \"OCN 로맨스 드라마\", \"OCN 수목 오리지널\", \"OCN 오리지널 드라마(2010~2016)\", \"OCN 월화 오리지널\", \"OCN 토일 오리지널(2017~2020)\", \"SBS 금토 드라마(2019~현재)\", \"SBS 드라마 스페셜(1992~1995)\", \"SBS 드라마 스페셜(1996~2000)\", \"SBS 드라마 스페셜(2001~2005)\", \"SBS 드라마 스페셜(2006~2010)\", \"SBS 드라마 스페셜(2011~2015)\", \"SBS 드라마 스페셜(2016~2020)\", \"SBS 아침 연속극(2016~2020)\", \"SBS 월화 드라마(1991~1995)\", \"SBS 월화 드라마(1996~2000)\", \"SBS 월화 드라마(2001~2005)\", \"SBS 월화 드라마(2006~2010)\", \"SBS 월화 드라마(2011~2015)\", \"SBS 월화 드라마(2016~2020)\", \"TV CHOSUN 토일드라마\", \"tvN 금요 드라마(2007~2015)\", \"tvN 금토 드라마\", \"tvN 로맨스가 필요해 시리즈\", \"tvN 불금 시리즈(2017~)\", \"tvN 월화 드라마(2011~2015)\", \"tvN 월화 드라마(2016~2020)\", \"tvN 토일 드라마(2017~2020)\"]"
   ]
  },
  {
   "cell_type": "code",
   "execution_count": 9,
   "metadata": {},
   "outputs": [],
   "source": [
    "titles = set()"
   ]
  },
  {
   "cell_type": "code",
   "execution_count": 10,
   "metadata": {},
   "outputs": [],
   "source": [
    "for inter in interested:\n",
    "    document = context[inter]\n",
    "    matches = regex_document.findall(document['1']['text'])\n",
    "    \n",
    "    for match in matches:\n",
    "        name, *_ = match.split('|')\n",
    "        name, *_ = name.split('#')\n",
    "        titles.add(name)"
   ]
  },
  {
   "cell_type": "markdown",
   "metadata": {},
   "source": [
    "## Get metadata from document"
   ]
  },
  {
   "cell_type": "code",
   "execution_count": 11,
   "metadata": {},
   "outputs": [],
   "source": [
    "columns = {\n",
    "    '방송 기간': ['방송기간', '방송 기간'],\n",
    "    '방송 횟수': ['횟수', '방송 횟수'],\n",
    "    '장르': ['장르'],\n",
    "    '채널': ['채널', '방송사'],\n",
    "    '제작사': ['제작사', '제작자', '제작'],\n",
    "    '극본': ['극본', '대본'],\n",
    "    '출연자': ['출연자', '출연', '출연진'],\n",
    "}"
   ]
  },
  {
   "cell_type": "code",
   "execution_count": 12,
   "metadata": {},
   "outputs": [],
   "source": [
    "data = defaultdict(dict)\n",
    "notexists = []\n",
    "notparser = []"
   ]
  },
  {
   "cell_type": "code",
   "execution_count": 16,
   "metadata": {},
   "outputs": [],
   "source": [
    "for title in titles:\n",
    "    try:\n",
    "        if '(드라마)' not in title and f'{title}(드라마)' in context:\n",
    "            document = context[title]['0']['text']\n",
    "        else:\n",
    "            document = context[title]['0']['text']\n",
    "    except KeyError:\n",
    "        notexists.append(title)\n",
    "        \n",
    "    matches = regex_table.findall(document)\n",
    "    \n",
    "    d = defaultdict(str)\n",
    "    \n",
    "    for key, value in matches:\n",
    "        key = next((ckey for ckey, cvalues in columns.items() if any(cvalue in key for cvalue in cvalues)), False)\n",
    "        if key:\n",
    "            key = key.strip()\n",
    "            d[key] = f'{d[key]} {value}'\n",
    "    \n",
    "    if not d:\n",
    "        notparser.append(title)\n",
    "    else:\n",
    "        data[title] = d"
   ]
  },
  {
   "cell_type": "code",
   "execution_count": 17,
   "metadata": {},
   "outputs": [
    {
     "name": "stdout",
     "output_type": "stream",
     "text": [
      "125 pages are not parsable\n",
      "2 pages are not exists\n"
     ]
    }
   ],
   "source": [
    "print(f'{len(notparser)} pages are not parsable')\n",
    "print(f'{len(notexists)} pages are not exists')"
   ]
  },
  {
   "cell_type": "markdown",
   "metadata": {},
   "source": [
    "## Create table from data"
   ]
  },
  {
   "cell_type": "code",
   "execution_count": 75,
   "metadata": {},
   "outputs": [],
   "source": [
    "table_columns = list(columns.keys())\n",
    "table = np.empty((0, len(table_columns) + 1))\n",
    "\n",
    "for title, values in data.items():\n",
    "    table = np.vstack((table, np.array([\n",
    "        regex_bracket.sub('', title).replace(' ', '').strip(), *tuple(map(parse, map(lambda c: values[c], table_columns)))\n",
    "    ])))"
   ]
  },
  {
   "cell_type": "code",
   "execution_count": 76,
   "metadata": {},
   "outputs": [],
   "source": [
    "df = pd.DataFrame(table)\n",
    "df.columns = ['제목', *table_columns]"
   ]
  },
  {
   "cell_type": "markdown",
   "metadata": {},
   "source": [
    "### Parse datetime"
   ]
  },
  {
   "cell_type": "code",
   "execution_count": 77,
   "metadata": {},
   "outputs": [],
   "source": [
    "regex_date = re.compile('(.+?)년(.*)월(.*)일')"
   ]
  },
  {
   "cell_type": "code",
   "execution_count": 78,
   "metadata": {},
   "outputs": [],
   "source": [
    "date_start = []\n",
    "for index, date in enumerate(df['방송 기간']):\n",
    "    ds, *de = map(regex_date.findall, map(str.strip, date.split('~' if '~' in date else '-')))\n",
    "    ds, *_ = ds or ['unknown']\n",
    "    try:\n",
    "        date_start.append(pd.datetime(*tuple(map(int, ds))))\n",
    "    except (ValueError, TypeError):\n",
    "        date_start.append('unknown')\n",
    "    \n",
    "assert len(date_start) == np.size(df, 0)"
   ]
  },
  {
   "cell_type": "code",
   "execution_count": 79,
   "metadata": {},
   "outputs": [],
   "source": [
    "df['방송 시작'] = pd.Series(date_start)"
   ]
  },
  {
   "cell_type": "markdown",
   "metadata": {},
   "source": [
    "## Show Dataframe"
   ]
  },
  {
   "cell_type": "code",
   "execution_count": 80,
   "metadata": {},
   "outputs": [
    {
     "name": "stdout",
     "output_type": "stream",
     "text": [
      "(736, 9)\n"
     ]
    },
    {
     "data": {
      "text/html": [
       "<div>\n",
       "<style scoped>\n",
       "    .dataframe tbody tr th:only-of-type {\n",
       "        vertical-align: middle;\n",
       "    }\n",
       "\n",
       "    .dataframe tbody tr th {\n",
       "        vertical-align: top;\n",
       "    }\n",
       "\n",
       "    .dataframe thead th {\n",
       "        text-align: right;\n",
       "    }\n",
       "</style>\n",
       "<table border=\"1\" class=\"dataframe\">\n",
       "  <thead>\n",
       "    <tr style=\"text-align: right;\">\n",
       "      <th></th>\n",
       "      <th>제목</th>\n",
       "      <th>방송 기간</th>\n",
       "      <th>방송 횟수</th>\n",
       "      <th>장르</th>\n",
       "      <th>채널</th>\n",
       "      <th>제작사</th>\n",
       "      <th>극본</th>\n",
       "      <th>출연자</th>\n",
       "      <th>방송 시작</th>\n",
       "    </tr>\n",
       "  </thead>\n",
       "  <tbody>\n",
       "    <tr>\n",
       "      <th>0</th>\n",
       "      <td>비밀의숲</td>\n",
       "      <td>2017년 6월 10일 ~ 2017년 7월 30일</td>\n",
       "      <td>16부작 + 스페셜 1부작</td>\n",
       "      <td>드라마, 스릴러, 범죄</td>\n",
       "      <td>tvN</td>\n",
       "      <td>씨그널 엔터테인먼트 그룹, IOK 미디어</td>\n",
       "      <td>이수연(작가)   이수연(작가)</td>\n",
       "      <td>조승우, 배두나, 이준혁, 유재명, 신혜선 外</td>\n",
       "      <td>2017-06-10 00:00:00</td>\n",
       "    </tr>\n",
       "    <tr>\n",
       "      <th>1</th>\n",
       "      <td>붉은달푸른해</td>\n",
       "      <td>2018년 11월 21일 ~ 2019년 1월 16일</td>\n",
       "      <td>32부작 + 스페셜 1부작</td>\n",
       "      <td>스릴러, 수사물</td>\n",
       "      <td>문화방송</td>\n",
       "      <td>메가몬스터]라는 CJ E&amp;M 계열회사였으나 2017년 카카오에 매각되었다. ]   ...</td>\n",
       "      <td>도현정</td>\n",
       "      <td>김선아, 이이경, 남규리, 엔(빅스) 外</td>\n",
       "      <td>2018-11-21 00:00:00</td>\n",
       "    </tr>\n",
       "    <tr>\n",
       "      <th>2</th>\n",
       "      <td>시를잊은그대에게</td>\n",
       "      <td>2018년 3월 26일 ~ 2018년 5월 15일</td>\n",
       "      <td>16부작</td>\n",
       "      <td></td>\n",
       "      <td>tvN</td>\n",
       "      <td>tvN</td>\n",
       "      <td>명수현, 백선우, 최보림 등</td>\n",
       "      <td>이유비, 이준혁, 장동윤 外</td>\n",
       "      <td>2018-03-26 00:00:00</td>\n",
       "    </tr>\n",
       "    <tr>\n",
       "      <th>3</th>\n",
       "      <td>메리대구공방전</td>\n",
       "      <td>2007년 5월 16일 ~ 2007년 7월 5일</td>\n",
       "      <td>16부작</td>\n",
       "      <td>드라마, 로맨틱 코미디</td>\n",
       "      <td>문화방송</td>\n",
       "      <td></td>\n",
       "      <td>김인영(각본가)</td>\n",
       "      <td>지현우, 이하나, 왕빛나, 이민우(배우) 外</td>\n",
       "      <td>2007-05-16 00:00:00</td>\n",
       "    </tr>\n",
       "    <tr>\n",
       "      <th>4</th>\n",
       "      <td>안녕하세요하느님</td>\n",
       "      <td>2006년 1월 9일 ~  2006년 2월 28일</td>\n",
       "      <td>16부작</td>\n",
       "      <td>멜로, 드라마</td>\n",
       "      <td>KBS 2TV</td>\n",
       "      <td>김종학프로덕션, 포도나무프로덕션</td>\n",
       "      <td>강은경</td>\n",
       "      <td>유건, 김옥빈, 이종혁(배우) 外</td>\n",
       "      <td>2006-01-09 00:00:00</td>\n",
       "    </tr>\n",
       "  </tbody>\n",
       "</table>\n",
       "</div>"
      ],
      "text/plain": [
       "         제목                         방송 기간           방송 횟수            장르  \\\n",
       "0      비밀의숲   2017년 6월 10일 ~ 2017년 7월 30일  16부작 + 스페셜 1부작  드라마, 스릴러, 범죄   \n",
       "1    붉은달푸른해  2018년 11월 21일 ~ 2019년 1월 16일  32부작 + 스페셜 1부작      스릴러, 수사물   \n",
       "2  시를잊은그대에게   2018년 3월 26일 ~ 2018년 5월 15일            16부작                 \n",
       "3   메리대구공방전    2007년 5월 16일 ~ 2007년 7월 5일            16부작  드라마, 로맨틱 코미디   \n",
       "4  안녕하세요하느님   2006년 1월 9일 ~  2006년 2월 28일            16부작       멜로, 드라마   \n",
       "\n",
       "        채널                                                제작사  \\\n",
       "0      tvN                             씨그널 엔터테인먼트 그룹, IOK 미디어   \n",
       "1     문화방송  메가몬스터]라는 CJ E&M 계열회사였으나 2017년 카카오에 매각되었다. ]   ...   \n",
       "2      tvN                                                tvN   \n",
       "3     문화방송                                                      \n",
       "4  KBS 2TV                                  김종학프로덕션, 포도나무프로덕션   \n",
       "\n",
       "                  극본                        출연자                방송 시작  \n",
       "0  이수연(작가)   이수연(작가)  조승우, 배두나, 이준혁, 유재명, 신혜선 外  2017-06-10 00:00:00  \n",
       "1                도현정     김선아, 이이경, 남규리, 엔(빅스) 外  2018-11-21 00:00:00  \n",
       "2    명수현, 백선우, 최보림 등            이유비, 이준혁, 장동윤 外  2018-03-26 00:00:00  \n",
       "3           김인영(각본가)   지현우, 이하나, 왕빛나, 이민우(배우) 外  2007-05-16 00:00:00  \n",
       "4                강은경         유건, 김옥빈, 이종혁(배우) 外  2006-01-09 00:00:00  "
      ]
     },
     "execution_count": 80,
     "metadata": {},
     "output_type": "execute_result"
    }
   ],
   "source": [
    "print(df.shape)\n",
    "df.head()"
   ]
  },
  {
   "cell_type": "code",
   "execution_count": 81,
   "metadata": {},
   "outputs": [],
   "source": [
    "df.to_csv('../results/namuwiki.csv', index=None)"
   ]
  },
  {
   "cell_type": "code",
   "execution_count": null,
   "metadata": {},
   "outputs": [],
   "source": []
  }
 ],
 "metadata": {
  "kernelspec": {
   "display_name": "Python 3",
   "language": "python",
   "name": "python3"
  },
  "language_info": {
   "codemirror_mode": {
    "name": "ipython",
    "version": 3
   },
   "file_extension": ".py",
   "mimetype": "text/x-python",
   "name": "python",
   "nbconvert_exporter": "python",
   "pygments_lexer": "ipython3",
   "version": "3.7.6"
  }
 },
 "nbformat": 4,
 "nbformat_minor": 4
}
