{
 "cells": [
  {
   "cell_type": "code",
   "execution_count": 179,
   "metadata": {},
   "outputs": [],
   "source": [
    "from typing import List, Optional\n",
    "from pathlib import Path\n",
    "from collections import defaultdict"
   ]
  },
  {
   "cell_type": "code",
   "execution_count": 72,
   "metadata": {},
   "outputs": [],
   "source": [
    "import pandas as pd\n",
    "import numpy as np"
   ]
  },
  {
   "cell_type": "code",
   "execution_count": 402,
   "metadata": {},
   "outputs": [],
   "source": [
    "dataframes = sorted(Path('../results').glob('*.csv'))"
   ]
  },
  {
   "cell_type": "code",
   "execution_count": 403,
   "metadata": {},
   "outputs": [],
   "source": [
    "key_columns = ['제목', '방송 시작']\n",
    "columns = ['제목', '방송 기간', '방송 횟수', '장르', '채널', '제작사', '극본', '출연자', '방송 시작']"
   ]
  },
  {
   "cell_type": "code",
   "execution_count": 404,
   "metadata": {},
   "outputs": [],
   "source": [
    "frames = {\n",
    "    data.stem: pd.read_csv(str(data))\n",
    "    for data in dataframes\n",
    "}\n",
    "\n",
    "for frame in frames.values():\n",
    "    assert (frame.columns == columns).all()"
   ]
  },
  {
   "cell_type": "code",
   "execution_count": 405,
   "metadata": {},
   "outputs": [],
   "source": [
    "total = defaultdict(set)"
   ]
  },
  {
   "cell_type": "code",
   "execution_count": 406,
   "metadata": {},
   "outputs": [],
   "source": [
    "for key, frame in frames.items():\n",
    "    for _, args in frame[key_columns].iterrows():\n",
    "        total[tuple(args.values)].add(key)"
   ]
  },
  {
   "cell_type": "markdown",
   "metadata": {},
   "source": [
    "## Merge multiple domain dataframes"
   ]
  },
  {
   "cell_type": "code",
   "execution_count": 407,
   "metadata": {},
   "outputs": [],
   "source": [
    "def merge(values: List[str]) -> str:\n",
    "    \"\"\"Simple merge return maximum length data\n",
    "    \"\"\"\n",
    "    def valuable(value: np.ndarray) -> int:\n",
    "        item = value.item()\n",
    "        if isinstance(item, str):\n",
    "            return len(item)\n",
    "        return 0\n",
    "    \n",
    "    index = np.array(tuple(map(valuable, values))).argmax()\n",
    "    \n",
    "    return values[index].item()"
   ]
  },
  {
   "cell_type": "code",
   "execution_count": 408,
   "metadata": {},
   "outputs": [],
   "source": [
    "table = pd.DataFrame([], columns=columns)"
   ]
  },
  {
   "cell_type": "code",
   "execution_count": 409,
   "metadata": {},
   "outputs": [],
   "source": [
    "for key, domains in total.items():\n",
    "    if len(domains) > 1:\n",
    "        table = table.append(pd.Series([merge([frames[domain].loc[(frames[domain][key_columns] == key).all(axis=1)][column].values for domain in domains]) for column in columns], index=columns), ignore_index=True)\n",
    "    else:\n",
    "        domain, *_ = domains\n",
    "        table = table.append(frames[domain].loc[(frames[domain][key_columns] == key).all(axis=1)])"
   ]
  },
  {
   "cell_type": "code",
   "execution_count": 413,
   "metadata": {},
   "outputs": [
    {
     "name": "stdout",
     "output_type": "stream",
     "text": [
      "(1912, 9)\n"
     ]
    },
    {
     "data": {
      "text/html": [
       "<div>\n",
       "<style scoped>\n",
       "    .dataframe tbody tr th:only-of-type {\n",
       "        vertical-align: middle;\n",
       "    }\n",
       "\n",
       "    .dataframe tbody tr th {\n",
       "        vertical-align: top;\n",
       "    }\n",
       "\n",
       "    .dataframe thead th {\n",
       "        text-align: right;\n",
       "    }\n",
       "</style>\n",
       "<table border=\"1\" class=\"dataframe\">\n",
       "  <thead>\n",
       "    <tr style=\"text-align: right;\">\n",
       "      <th></th>\n",
       "      <th>제목</th>\n",
       "      <th>방송 기간</th>\n",
       "      <th>방송 횟수</th>\n",
       "      <th>장르</th>\n",
       "      <th>채널</th>\n",
       "      <th>제작사</th>\n",
       "      <th>극본</th>\n",
       "      <th>출연자</th>\n",
       "      <th>방송 시작</th>\n",
       "    </tr>\n",
       "  </thead>\n",
       "  <tbody>\n",
       "    <tr>\n",
       "      <th>0</th>\n",
       "      <td>비밀의숲</td>\n",
       "      <td>2017년 6월 10일 ~ 2017년 7월 30일</td>\n",
       "      <td>16부작 + 스페셜 1부작</td>\n",
       "      <td>드라마, 스릴러, 범죄</td>\n",
       "      <td>tvN</td>\n",
       "      <td>민현일, 고병철, 이성진\\n  씨그널 엔터테인먼트 그룹 IOK 미디어</td>\n",
       "      <td>이수연(작가)   이수연(작가)</td>\n",
       "      <td>조승우, 배두나, 이준혁, 유재명, 신혜선 外</td>\n",
       "      <td>2017-06-10 00:00:00</td>\n",
       "    </tr>\n",
       "    <tr>\n",
       "      <th>1</th>\n",
       "      <td>붉은달푸른해</td>\n",
       "      <td>2018년 11월 21일 ~ 2019년 1월 16일</td>\n",
       "      <td>32부작 + 스페셜 1부작</td>\n",
       "      <td>미스터리 스릴러</td>\n",
       "      <td>MBC TV</td>\n",
       "      <td>메가몬스터]라는 CJ E&amp;M 계열회사였으나 2017년 카카오에 매각되었다. ]   ...</td>\n",
       "      <td>도현정</td>\n",
       "      <td>김선아, 이이경, 남규리, [[엔 (가수)</td>\n",
       "      <td>2018-11-21 00:00:00</td>\n",
       "    </tr>\n",
       "    <tr>\n",
       "      <th>2</th>\n",
       "      <td>시를잊은그대에게</td>\n",
       "      <td>2018년 3월 26일 ~ 2018년 5월 15일</td>\n",
       "      <td>16부작</td>\n",
       "      <td>[[텔레비전 드라마</td>\n",
       "      <td>tvN</td>\n",
       "      <td>tvN</td>\n",
       "      <td>명수현, 백선우, 최보림 (이상 1~16회)서동범 (15~16회)</td>\n",
       "      <td>이유비, [[이준혁 (1984년)</td>\n",
       "      <td>2018-03-26 00:00:00</td>\n",
       "    </tr>\n",
       "    <tr>\n",
       "      <th>3</th>\n",
       "      <td>메리대구공방전</td>\n",
       "      <td>2007년 5월 16일 ~ 2007년 7월 5일</td>\n",
       "      <td>16부작</td>\n",
       "      <td>드라마, 로맨틱 코미디</td>\n",
       "      <td>문화방송</td>\n",
       "      <td>NaN</td>\n",
       "      <td>[[김인영 (작가)</td>\n",
       "      <td>지현우, 이하나, 왕빛나, 이민우(배우) 外</td>\n",
       "      <td>2007-05-16 00:00:00</td>\n",
       "    </tr>\n",
       "    <tr>\n",
       "      <th>4</th>\n",
       "      <td>안녕하세요하느님</td>\n",
       "      <td>2006년 1월 9일 ~  2006년 2월 28일</td>\n",
       "      <td>16부작</td>\n",
       "      <td>멜로, 드라마</td>\n",
       "      <td>KBS 2TV</td>\n",
       "      <td>김종학프로덕션, 포도나무프로덕션</td>\n",
       "      <td>강은경</td>\n",
       "      <td>유건, 김옥빈, 이종혁(배우) 外</td>\n",
       "      <td>2006-01-09 00:00:00</td>\n",
       "    </tr>\n",
       "  </tbody>\n",
       "</table>\n",
       "</div>"
      ],
      "text/plain": [
       "         제목                         방송 기간           방송 횟수            장르  \\\n",
       "0      비밀의숲   2017년 6월 10일 ~ 2017년 7월 30일  16부작 + 스페셜 1부작  드라마, 스릴러, 범죄   \n",
       "1    붉은달푸른해  2018년 11월 21일 ~ 2019년 1월 16일  32부작 + 스페셜 1부작      미스터리 스릴러   \n",
       "2  시를잊은그대에게   2018년 3월 26일 ~ 2018년 5월 15일            16부작    [[텔레비전 드라마   \n",
       "3   메리대구공방전    2007년 5월 16일 ~ 2007년 7월 5일            16부작  드라마, 로맨틱 코미디   \n",
       "4  안녕하세요하느님   2006년 1월 9일 ~  2006년 2월 28일            16부작       멜로, 드라마   \n",
       "\n",
       "        채널                                                제작사  \\\n",
       "0      tvN             민현일, 고병철, 이성진\\n  씨그널 엔터테인먼트 그룹 IOK 미디어   \n",
       "1   MBC TV  메가몬스터]라는 CJ E&M 계열회사였으나 2017년 카카오에 매각되었다. ]   ...   \n",
       "2      tvN                                                tvN   \n",
       "3     문화방송                                                NaN   \n",
       "4  KBS 2TV                                  김종학프로덕션, 포도나무프로덕션   \n",
       "\n",
       "                                     극본                        출연자  \\\n",
       "0                     이수연(작가)   이수연(작가)  조승우, 배두나, 이준혁, 유재명, 신혜선 外   \n",
       "1                                   도현정    김선아, 이이경, 남규리, [[엔 (가수)   \n",
       "2  명수현, 백선우, 최보림 (이상 1~16회)서동범 (15~16회)         이유비, [[이준혁 (1984년)   \n",
       "3                            [[김인영 (작가)   지현우, 이하나, 왕빛나, 이민우(배우) 外   \n",
       "4                                   강은경         유건, 김옥빈, 이종혁(배우) 外   \n",
       "\n",
       "                 방송 시작  \n",
       "0  2017-06-10 00:00:00  \n",
       "1  2018-11-21 00:00:00  \n",
       "2  2018-03-26 00:00:00  \n",
       "3  2007-05-16 00:00:00  \n",
       "4  2006-01-09 00:00:00  "
      ]
     },
     "execution_count": 413,
     "metadata": {},
     "output_type": "execute_result"
    }
   ],
   "source": [
    "print(table.shape)\n",
    "table.head()"
   ]
  },
  {
   "cell_type": "code",
   "execution_count": 414,
   "metadata": {},
   "outputs": [],
   "source": [
    "table.to_csv('../results/results.csv', index=None)"
   ]
  },
  {
   "cell_type": "code",
   "execution_count": null,
   "metadata": {},
   "outputs": [],
   "source": []
  }
 ],
 "metadata": {
  "kernelspec": {
   "display_name": "Python 3",
   "language": "python",
   "name": "python3"
  },
  "language_info": {
   "codemirror_mode": {
    "name": "ipython",
    "version": 3
   },
   "file_extension": ".py",
   "mimetype": "text/x-python",
   "name": "python",
   "nbconvert_exporter": "python",
   "pygments_lexer": "ipython3",
   "version": "3.7.6"
  }
 },
 "nbformat": 4,
 "nbformat_minor": 4
}
