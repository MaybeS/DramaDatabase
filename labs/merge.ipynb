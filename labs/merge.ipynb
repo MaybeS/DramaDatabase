{
 "cells": [
  {
   "cell_type": "code",
   "execution_count": 1,
   "metadata": {},
   "outputs": [],
   "source": [
    "from typing import List, Optional\n",
    "from pathlib import Path\n",
    "from collections import defaultdict"
   ]
  },
  {
   "cell_type": "code",
   "execution_count": 2,
   "metadata": {},
   "outputs": [],
   "source": [
    "import pandas as pd\n",
    "import numpy as np"
   ]
  },
  {
   "cell_type": "code",
   "execution_count": 3,
   "metadata": {},
   "outputs": [],
   "source": [
    "dataframes = sorted(Path('../results').glob('*.csv'))"
   ]
  },
  {
   "cell_type": "code",
   "execution_count": 4,
   "metadata": {},
   "outputs": [],
   "source": [
    "key_columns = ['제목', '방송 시작']\n",
    "columns = ['제목', '방송 기간', '방송 횟수', '장르', '채널', '제작사', '극본', '출연자', '방송 시작']"
   ]
  },
  {
   "cell_type": "code",
   "execution_count": 5,
   "metadata": {},
   "outputs": [],
   "source": [
    "frames = {\n",
    "    data.stem: pd.read_csv(str(data))\n",
    "    for data in dataframes\n",
    "}\n",
    "\n",
    "for frame in frames.values():\n",
    "    assert (frame.columns == columns).all()"
   ]
  },
  {
   "cell_type": "code",
   "execution_count": 6,
   "metadata": {},
   "outputs": [],
   "source": [
    "total = defaultdict(set)"
   ]
  },
  {
   "cell_type": "code",
   "execution_count": 7,
   "metadata": {},
   "outputs": [],
   "source": [
    "for key, frame in frames.items():\n",
    "    for _, args in frame[key_columns].iterrows():\n",
    "        total[tuple(args.values)].add(key)"
   ]
  },
  {
   "cell_type": "markdown",
   "metadata": {},
   "source": [
    "## Merge multiple domain dataframes"
   ]
  },
  {
   "cell_type": "code",
   "execution_count": 8,
   "metadata": {},
   "outputs": [],
   "source": [
    "def merge(values: List[str]) -> str:\n",
    "    \"\"\"Simple merge return maximum length data\n",
    "    \"\"\"\n",
    "    def valuable(value: np.ndarray) -> int:\n",
    "        item = value.item()\n",
    "        if isinstance(item, str):\n",
    "            return len(item)\n",
    "        return 0\n",
    "    \n",
    "    index = np.array(tuple(map(valuable, values))).argmax()\n",
    "    \n",
    "    return values[index].item()"
   ]
  },
  {
   "cell_type": "code",
   "execution_count": 9,
   "metadata": {},
   "outputs": [],
   "source": [
    "table = pd.DataFrame([], columns=columns)"
   ]
  },
  {
   "cell_type": "code",
   "execution_count": 10,
   "metadata": {},
   "outputs": [],
   "source": [
    "for key, domains in total.items():\n",
    "    if len(domains) > 1:\n",
    "        table = table.append(pd.Series([merge([frames[domain].loc[(frames[domain][key_columns] == key).all(axis=1)][column].values for domain in domains]) for column in columns], index=columns), ignore_index=True)\n",
    "    else:\n",
    "        domain, *_ = domains\n",
    "        table = table.append(frames[domain].loc[(frames[domain][key_columns] == key).all(axis=1)])"
   ]
  },
  {
   "cell_type": "code",
   "execution_count": 11,
   "metadata": {},
   "outputs": [
    {
     "name": "stdout",
     "output_type": "stream",
     "text": [
      "(1917, 9)\n"
     ]
    },
    {
     "data": {
      "text/html": [
       "<div>\n",
       "<style scoped>\n",
       "    .dataframe tbody tr th:only-of-type {\n",
       "        vertical-align: middle;\n",
       "    }\n",
       "\n",
       "    .dataframe tbody tr th {\n",
       "        vertical-align: top;\n",
       "    }\n",
       "\n",
       "    .dataframe thead th {\n",
       "        text-align: right;\n",
       "    }\n",
       "</style>\n",
       "<table border=\"1\" class=\"dataframe\">\n",
       "  <thead>\n",
       "    <tr style=\"text-align: right;\">\n",
       "      <th></th>\n",
       "      <th>제목</th>\n",
       "      <th>방송 기간</th>\n",
       "      <th>방송 횟수</th>\n",
       "      <th>장르</th>\n",
       "      <th>채널</th>\n",
       "      <th>제작사</th>\n",
       "      <th>극본</th>\n",
       "      <th>출연자</th>\n",
       "      <th>방송 시작</th>\n",
       "    </tr>\n",
       "  </thead>\n",
       "  <tbody>\n",
       "    <tr>\n",
       "      <th>0</th>\n",
       "      <td>외과의사봉달희</td>\n",
       "      <td>2007년 1월 17일 ~ 2007년 3월 15일</td>\n",
       "      <td>18부작</td>\n",
       "      <td>의학 드라마</td>\n",
       "      <td>SBS TV</td>\n",
       "      <td>DSP 미디어</td>\n",
       "      <td>[[이정선 (작가)</td>\n",
       "      <td>이요원, 이범수, 김민준, 오윤아 외</td>\n",
       "      <td>2007-01-17 00:00:00</td>\n",
       "    </tr>\n",
       "    <tr>\n",
       "      <th>1</th>\n",
       "      <td>단,하나의사랑</td>\n",
       "      <td>2019년 5월 22일 ~ 2019년  7월 11일</td>\n",
       "      <td>32부작</td>\n",
       "      <td>판타지, 로맨스</td>\n",
       "      <td>KBS 2TV</td>\n",
       "      <td>조윤정, 정해룡\\n  빅토리콘텐츠, 몬스터유니온</td>\n",
       "      <td>최윤교</td>\n",
       "      <td>신혜선, 엘 (가수), 이동건, 김보미 (1987년) 외</td>\n",
       "      <td>2019-05-22 00:00:00</td>\n",
       "    </tr>\n",
       "    <tr>\n",
       "      <th>2</th>\n",
       "      <td>백일의낭군님</td>\n",
       "      <td>2018년 9월 10일 ~ 2018년 10월 30일</td>\n",
       "      <td>16부작</td>\n",
       "      <td>미스터리 로맨스, 픽션사극</td>\n",
       "      <td>tvN</td>\n",
       "      <td>에이스토리\\n 이상백</td>\n",
       "      <td>노지설</td>\n",
       "      <td>도경수, 남지현 (배우), 조성하 (배우) 외</td>\n",
       "      <td>2018-09-10 00:00:00</td>\n",
       "    </tr>\n",
       "    <tr>\n",
       "      <th>3</th>\n",
       "      <td>러브홀릭</td>\n",
       "      <td>2005년 5월 2일 ~ 2005년 6월 21일</td>\n",
       "      <td>16부작</td>\n",
       "      <td>멜로, 드라마</td>\n",
       "      <td>KBS 2TV</td>\n",
       "      <td>KBS 2TV 자체제작</td>\n",
       "      <td>[[이향희 (작가)</td>\n",
       "      <td>강타, 김규리 (1979년 8월), 이선균, 유인영 외</td>\n",
       "      <td>2005-05-02 00:00:00</td>\n",
       "    </tr>\n",
       "    <tr>\n",
       "      <th>4</th>\n",
       "      <td>왜그래풍상씨</td>\n",
       "      <td>2019년 1월 9일 ~ 2019년 3월 14일</td>\n",
       "      <td>40부작]] + 스페셜 1부작</td>\n",
       "      <td>가족, 코미디</td>\n",
       "      <td>KBS 2TV</td>\n",
       "      <td>김상헌, 조형진\\n  초록뱀미디어, 팬 엔터테인먼트</td>\n",
       "      <td>문영남</td>\n",
       "      <td>유준상 (배우), 오지호 (배우), 전혜빈, 이시영 (배우), 이창엽 (배우) 외</td>\n",
       "      <td>2019-01-09 00:00:00</td>\n",
       "    </tr>\n",
       "  </tbody>\n",
       "</table>\n",
       "</div>"
      ],
      "text/plain": [
       "        제목                          방송 기간             방송 횟수               장르  \\\n",
       "0  외과의사봉달희    2007년 1월 17일 ~ 2007년 3월 15일              18부작           의학 드라마   \n",
       "1  단,하나의사랑   2019년 5월 22일 ~ 2019년  7월 11일              32부작         판타지, 로맨스   \n",
       "2   백일의낭군님   2018년 9월 10일 ~ 2018년 10월 30일              16부작   미스터리 로맨스, 픽션사극   \n",
       "3     러브홀릭     2005년 5월 2일 ~ 2005년 6월 21일              16부작          멜로, 드라마   \n",
       "4   왜그래풍상씨     2019년 1월 9일 ~ 2019년 3월 14일  40부작]] + 스페셜 1부작          가족, 코미디   \n",
       "\n",
       "         채널                           제작사          극본  \\\n",
       "0    SBS TV                       DSP 미디어  [[이정선 (작가)   \n",
       "1   KBS 2TV    조윤정, 정해룡\\n  빅토리콘텐츠, 몬스터유니온         최윤교   \n",
       "2       tvN                   에이스토리\\n 이상백         노지설   \n",
       "3   KBS 2TV                  KBS 2TV 자체제작  [[이향희 (작가)   \n",
       "4   KBS 2TV  김상헌, 조형진\\n  초록뱀미디어, 팬 엔터테인먼트         문영남   \n",
       "\n",
       "                                              출연자                방송 시작  \n",
       "0                            이요원, 이범수, 김민준, 오윤아 외  2007-01-17 00:00:00  \n",
       "1                 신혜선, 엘 (가수), 이동건, 김보미 (1987년) 외  2019-05-22 00:00:00  \n",
       "2                       도경수, 남지현 (배우), 조성하 (배우) 외  2018-09-10 00:00:00  \n",
       "3                  강타, 김규리 (1979년 8월), 이선균, 유인영 외  2005-05-02 00:00:00  \n",
       "4   유준상 (배우), 오지호 (배우), 전혜빈, 이시영 (배우), 이창엽 (배우) 외  2019-01-09 00:00:00  "
      ]
     },
     "execution_count": 11,
     "metadata": {},
     "output_type": "execute_result"
    }
   ],
   "source": [
    "print(table.shape)\n",
    "table.head()"
   ]
  },
  {
   "cell_type": "code",
   "execution_count": 12,
   "metadata": {},
   "outputs": [],
   "source": [
    "table.to_csv('../results/results.csv', index=None)"
   ]
  },
  {
   "cell_type": "code",
   "execution_count": null,
   "metadata": {},
   "outputs": [],
   "source": []
  }
 ],
 "metadata": {
  "kernelspec": {
   "display_name": "Python 3",
   "language": "python",
   "name": "python3"
  },
  "language_info": {
   "codemirror_mode": {
    "name": "ipython",
    "version": 3
   },
   "file_extension": ".py",
   "mimetype": "text/x-python",
   "name": "python",
   "nbconvert_exporter": "python",
   "pygments_lexer": "ipython3",
   "version": "3.7.6"
  }
 },
 "nbformat": 4,
 "nbformat_minor": 4
}
