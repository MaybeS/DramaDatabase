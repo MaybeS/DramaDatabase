{
 "cells": [
  {
   "cell_type": "code",
   "execution_count": 1,
   "metadata": {},
   "outputs": [],
   "source": [
    "from typing import List, Optional\n",
    "from pathlib import Path\n",
    "from collections import defaultdict"
   ]
  },
  {
   "cell_type": "code",
   "execution_count": 2,
   "metadata": {},
   "outputs": [],
   "source": [
    "import pandas as pd\n",
    "import numpy as np"
   ]
  },
  {
   "cell_type": "code",
   "execution_count": 3,
   "metadata": {},
   "outputs": [],
   "source": [
    "dataframes = sorted(Path('../results').glob('*.csv'))"
   ]
  },
  {
   "cell_type": "code",
   "execution_count": 4,
   "metadata": {},
   "outputs": [],
   "source": [
    "key_columns = ['제목', '방송 시작']\n",
    "columns = ['제목', '방송 기간', '방송 횟수', '장르', '채널', '제작사', '극본', '출연자', '방송 시작']"
   ]
  },
  {
   "cell_type": "code",
   "execution_count": 5,
   "metadata": {},
   "outputs": [],
   "source": [
    "frames = {\n",
    "    data.stem: pd.read_csv(str(data))\n",
    "    for data in dataframes\n",
    "    if data.stem != 'results'\n",
    "}\n",
    "\n",
    "for frame in frames.values():\n",
    "    assert (frame.columns == columns).all()"
   ]
  },
  {
   "cell_type": "code",
   "execution_count": 6,
   "metadata": {},
   "outputs": [],
   "source": [
    "total = defaultdict(set)"
   ]
  },
  {
   "cell_type": "code",
   "execution_count": 7,
   "metadata": {},
   "outputs": [],
   "source": [
    "for key, frame in frames.items():\n",
    "    for _, args in frame[key_columns].iterrows():\n",
    "        total[tuple(args.values)].add(key)"
   ]
  },
  {
   "cell_type": "markdown",
   "metadata": {},
   "source": [
    "## Merge multiple domain dataframes"
   ]
  },
  {
   "cell_type": "code",
   "execution_count": 8,
   "metadata": {},
   "outputs": [],
   "source": [
    "def merge(values: List[str]) -> str:\n",
    "    \"\"\"Simple merge return maximum length data\n",
    "    \"\"\"\n",
    "    def valuable(value: np.ndarray) -> int:\n",
    "        item = value.item()\n",
    "        if isinstance(item, str):\n",
    "            return len(item)\n",
    "        return 0\n",
    "    \n",
    "    index = np.array(tuple(map(valuable, values))).argmax()\n",
    "    \n",
    "    return values[index].item()"
   ]
  },
  {
   "cell_type": "code",
   "execution_count": 9,
   "metadata": {},
   "outputs": [],
   "source": [
    "table = pd.DataFrame([], columns=columns)"
   ]
  },
  {
   "cell_type": "code",
   "execution_count": 10,
   "metadata": {},
   "outputs": [],
   "source": [
    "for key, domains in total.items():\n",
    "    if len(domains) > 1:\n",
    "        table = table.append(pd.Series([merge([frames[domain].loc[(frames[domain][key_columns] == key).all(axis=1)][column].values for domain in domains]) for column in columns], index=columns), ignore_index=True)\n",
    "    else:\n",
    "        domain, *_ = domains\n",
    "        table = table.append(frames[domain].loc[(frames[domain][key_columns] == key).all(axis=1)])"
   ]
  },
  {
   "cell_type": "code",
   "execution_count": 11,
   "metadata": {},
   "outputs": [
    {
     "name": "stdout",
     "output_type": "stream",
     "text": [
      "(1909, 9)\n"
     ]
    },
    {
     "data": {
      "text/html": [
       "<div>\n",
       "<style scoped>\n",
       "    .dataframe tbody tr th:only-of-type {\n",
       "        vertical-align: middle;\n",
       "    }\n",
       "\n",
       "    .dataframe tbody tr th {\n",
       "        vertical-align: top;\n",
       "    }\n",
       "\n",
       "    .dataframe thead th {\n",
       "        text-align: right;\n",
       "    }\n",
       "</style>\n",
       "<table border=\"1\" class=\"dataframe\">\n",
       "  <thead>\n",
       "    <tr style=\"text-align: right;\">\n",
       "      <th></th>\n",
       "      <th>제목</th>\n",
       "      <th>방송 기간</th>\n",
       "      <th>방송 횟수</th>\n",
       "      <th>장르</th>\n",
       "      <th>채널</th>\n",
       "      <th>제작사</th>\n",
       "      <th>극본</th>\n",
       "      <th>출연자</th>\n",
       "      <th>방송 시작</th>\n",
       "    </tr>\n",
       "  </thead>\n",
       "  <tbody>\n",
       "    <tr>\n",
       "      <th>0</th>\n",
       "      <td>4월의키스</td>\n",
       "      <td>2004년 4월 21일 ~ 2004년 7월 8일</td>\n",
       "      <td>24부작</td>\n",
       "      <td>멜로, 드라마</td>\n",
       "      <td>한국방송공사</td>\n",
       "      <td>CAA</td>\n",
       "      <td>박범수</td>\n",
       "      <td>수애, 조한선, 이정진, 소이현 外</td>\n",
       "      <td>2004-04-21 00:00:00</td>\n",
       "    </tr>\n",
       "    <tr>\n",
       "      <th>1</th>\n",
       "      <td>으라차차와이키키2</td>\n",
       "      <td>2019년 3월 25일 ~ 2019년 5월 14일</td>\n",
       "      <td>16부작</td>\n",
       "      <td>드라마</td>\n",
       "      <td>JTBC</td>\n",
       "      <td>씨제스엔터테인먼트, 드라마하우스앤드제이콘텐트허브 백창주, 박진형, 박준서</td>\n",
       "      <td>김기호, 송지은, 송미소, 서동범</td>\n",
       "      <td>김선호 (배우), 이이경, 신현수 (배우), 문가영, 안소희, 김예원 (1987년) 외</td>\n",
       "      <td>2019-03-25 00:00:00</td>\n",
       "    </tr>\n",
       "    <tr>\n",
       "      <th>2</th>\n",
       "      <td>타인은지옥이다</td>\n",
       "      <td>2019년 8월 31일 ~ 2019년  10월 6일</td>\n",
       "      <td>10부작</td>\n",
       "      <td>공포, 스릴러</td>\n",
       "      <td>OCN (방송)</td>\n",
       "      <td>김우상, 권미경 영화사 우상, 스튜디오N</td>\n",
       "      <td>정이도</td>\n",
       "      <td>임시완, 이동욱, 이정은(1970) 外</td>\n",
       "      <td>2019-08-31 00:00:00</td>\n",
       "    </tr>\n",
       "    <tr>\n",
       "      <th>3</th>\n",
       "      <td>마을-아치아라의비밀</td>\n",
       "      <td>2015년 10월 7일 ~ 2015년 12월 3일</td>\n",
       "      <td>16부작</td>\n",
       "      <td>서스펜스 스릴러, 공포, 판타지</td>\n",
       "      <td>SBS (대한민국의 방송사)</td>\n",
       "      <td>김동래 래몽래인</td>\n",
       "      <td>도현정</td>\n",
       "      <td>문근영, 육성재, 온주완, 신은경 (배우), 장희진 (1983년) 외</td>\n",
       "      <td>2015-10-07 00:00:00</td>\n",
       "    </tr>\n",
       "    <tr>\n",
       "      <th>4</th>\n",
       "      <td>하이에나</td>\n",
       "      <td>ON AIR 2020년 2월 21일 ~</td>\n",
       "      <td>부작</td>\n",
       "      <td>NaN</td>\n",
       "      <td>SBS | 넷플릭스</td>\n",
       "      <td>SBS | 키이스트</td>\n",
       "      <td>김루리</td>\n",
       "      <td>김혜수, 주지훈 外</td>\n",
       "      <td>unknown</td>\n",
       "    </tr>\n",
       "  </tbody>\n",
       "</table>\n",
       "</div>"
      ],
      "text/plain": [
       "           제목                            방송 기간    방송 횟수                    장르  \\\n",
       "0       4월의키스      2004년 4월 21일 ~ 2004년 7월 8일     24부작               멜로, 드라마    \n",
       "1   으라차차와이키키2     2019년 3월 25일 ~ 2019년 5월 14일     16부작                    드라마   \n",
       "2     타인은지옥이다    2019년 8월 31일 ~ 2019년  10월 6일     10부작               공포, 스릴러    \n",
       "3  마을-아치아라의비밀     2015년 10월 7일 ~ 2015년 12월 3일     16부작     서스펜스 스릴러, 공포, 판타지    \n",
       "4        하이에나          ON AIR 2020년 2월 21일 ~        부작                    NaN   \n",
       "\n",
       "                 채널                                        제작사  \\\n",
       "0           한국방송공사                                        CAA    \n",
       "1             JTBC    씨제스엔터테인먼트, 드라마하우스앤드제이콘텐트허브 백창주, 박진형, 박준서   \n",
       "2          OCN (방송)                     김우상, 권미경 영화사 우상, 스튜디오N   \n",
       "3   SBS (대한민국의 방송사)                                   김동래 래몽래인   \n",
       "4       SBS | 넷플릭스                                 SBS | 키이스트    \n",
       "\n",
       "                      극본                                                출연자  \\\n",
       "0                   박범수                                수애, 조한선, 이정진, 소이현 外    \n",
       "1    김기호, 송지은, 송미소, 서동범    김선호 (배우), 이이경, 신현수 (배우), 문가영, 안소희, 김예원 (1987년) 외   \n",
       "2                   정이도                              임시완, 이동욱, 이정은(1970) 外    \n",
       "3                   도현정              문근영, 육성재, 온주완, 신은경 (배우), 장희진 (1983년) 외   \n",
       "4                   김루리                                         김혜수, 주지훈 外    \n",
       "\n",
       "                 방송 시작  \n",
       "0  2004-04-21 00:00:00  \n",
       "1  2019-03-25 00:00:00  \n",
       "2  2019-08-31 00:00:00  \n",
       "3  2015-10-07 00:00:00  \n",
       "4              unknown  "
      ]
     },
     "execution_count": 11,
     "metadata": {},
     "output_type": "execute_result"
    }
   ],
   "source": [
    "print(table.shape)\n",
    "table.head()"
   ]
  },
  {
   "cell_type": "code",
   "execution_count": 12,
   "metadata": {},
   "outputs": [],
   "source": [
    "table.to_csv('../results/results.csv', index=None)"
   ]
  },
  {
   "cell_type": "code",
   "execution_count": null,
   "metadata": {},
   "outputs": [],
   "source": []
  }
 ],
 "metadata": {
  "kernelspec": {
   "display_name": "Python 3",
   "language": "python",
   "name": "python3"
  },
  "language_info": {
   "codemirror_mode": {
    "name": "ipython",
    "version": 3
   },
   "file_extension": ".py",
   "mimetype": "text/x-python",
   "name": "python",
   "nbconvert_exporter": "python",
   "pygments_lexer": "ipython3",
   "version": "3.7.6"
  }
 },
 "nbformat": 4,
 "nbformat_minor": 4
}
